{
  "nbformat": 4,
  "nbformat_minor": 0,
  "metadata": {
    "kernelspec": {
      "display_name": "Python 3",
      "language": "python",
      "name": "python3"
    },
    "language_info": {
      "codemirror_mode": {
        "name": "ipython",
        "version": 3
      },
      "file_extension": ".py",
      "mimetype": "text/x-python",
      "name": "python",
      "nbconvert_exporter": "python",
      "pygments_lexer": "ipython3",
      "version": "3.7.3"
    },
    "colab": {
      "name": "model.ipynb",
      "provenance": [],
      "include_colab_link": true
    }
  },
  "cells": [
    {
      "cell_type": "markdown",
      "metadata": {
        "id": "view-in-github",
        "colab_type": "text"
      },
      "source": [
        "<a href=\"https://colab.research.google.com/github/sujayjoshi66/Gender-Identification/blob/main/model.ipynb\" target=\"_parent\"><img src=\"https://colab.research.google.com/assets/colab-badge.svg\" alt=\"Open In Colab\"/></a>"
      ]
    },
    {
      "cell_type": "code",
      "metadata": {
        "id": "Mc8Cx8MPqSBO"
      },
      "source": [
        "#importing the libraries\n",
        "import numpy as np\n",
        "import pandas as pd\n",
        "import matplotlib.pyplot as plt\n",
        "from PIL import Image\n",
        "%matplotlib inline\n",
        "import cv2\n",
        "import pickle\n",
        "from glob import glob"
      ],
      "execution_count": null,
      "outputs": []
    },
    {
      "cell_type": "code",
      "metadata": {
        "id": "DeBJF1nJqSBf"
      },
      "source": [
        "all_female_paths = glob('./data/female/*.jpg')\n",
        "all_male_paths = glob('./data/male/*.jpg')\n",
        "\n",
        "#source - https://github.com/opencv/opencv/tree/master/data/haarcascades\n",
        "hcc = cv2.CascadeClassifier('./model/haarcascade_frontalface_default.xml')  #creating an object of haar cascade classifier"
      ],
      "execution_count": null,
      "outputs": []
    },
    {
      "cell_type": "code",
      "metadata": {
        "id": "Saq_mtysqSBh"
      },
      "source": [
        "#function to crop the faces and store them in a separate folder\n",
        "def crop_images(img_path, gender, i):\n",
        "    img = cv2.imread(img_path)\n",
        "    gray_img = cv2.cvtColor(img, cv2.COLOR_BGR2GRAY)\n",
        "    face = hcc.detectMultiScale(gray_img, 1.5, 5)\n",
        "    for x,y,w,h in face:\n",
        "        cropped_img = img[y:y+h, x:x+w]\n",
        "        if gender=='male':\n",
        "            cv2.imwrite('./data/cropped/male_crop/{}_{}.png'.format(gender, i), cropped_img)\n",
        "        elif gender == 'female':\n",
        "            cv2.imwrite('./data/cropped/female_crop/{}_{}.png'.format(gender, i), cropped_img)\n",
        "#Function Call to crop all the images\n",
        "path1 = all_male_paths[0]\n",
        "path2 = all_female_paths[0]\n",
        "for i, path1 in enumerate(all_male_paths):\n",
        "    crop_images(path1, 'male', i)\n",
        "    #print('image at {} cropped'.format(path1))\n",
        "for i, path2 in enumerate(all_female_paths):\n",
        "    crop_images(path2, 'female', i)    \n",
        "    #print('image at {} cropped'.format(path2))"
      ],
      "execution_count": null,
      "outputs": []
    },
    {
      "cell_type": "code",
      "metadata": {
        "id": "oWhc5ERpqSBk"
      },
      "source": [
        "cropped_females = glob('./data/cropped/female_crop/*.png')\n",
        "cropped_males = glob('./data/cropped/male_crop/*.png')\n",
        "#creating a list to store all the female and male paths together \n",
        "path = cropped_females + cropped_males "
      ],
      "execution_count": null,
      "outputs": []
    },
    {
      "cell_type": "code",
      "metadata": {
        "id": "sdGO4NMqqSBt",
        "outputId": "c28012f9-b951-4159-b174-d76e32a27e31"
      },
      "source": [
        "df.describe()"
      ],
      "execution_count": null,
      "outputs": [
        {
          "output_type": "execute_result",
          "data": {
            "text/html": [
              "<div>\n",
              "<style scoped>\n",
              "    .dataframe tbody tr th:only-of-type {\n",
              "        vertical-align: middle;\n",
              "    }\n",
              "\n",
              "    .dataframe tbody tr th {\n",
              "        vertical-align: top;\n",
              "    }\n",
              "\n",
              "    .dataframe thead th {\n",
              "        text-align: right;\n",
              "    }\n",
              "</style>\n",
              "<table border=\"1\" class=\"dataframe\">\n",
              "  <thead>\n",
              "    <tr style=\"text-align: right;\">\n",
              "      <th></th>\n",
              "      <th>size</th>\n",
              "    </tr>\n",
              "  </thead>\n",
              "  <tbody>\n",
              "    <tr>\n",
              "      <th>count</th>\n",
              "      <td>6058.000000</td>\n",
              "    </tr>\n",
              "    <tr>\n",
              "      <th>mean</th>\n",
              "      <td>155.640310</td>\n",
              "    </tr>\n",
              "    <tr>\n",
              "      <th>std</th>\n",
              "      <td>72.376817</td>\n",
              "    </tr>\n",
              "    <tr>\n",
              "      <th>min</th>\n",
              "      <td>24.000000</td>\n",
              "    </tr>\n",
              "    <tr>\n",
              "      <th>25%</th>\n",
              "      <td>81.000000</td>\n",
              "    </tr>\n",
              "    <tr>\n",
              "      <th>50%</th>\n",
              "      <td>122.000000</td>\n",
              "    </tr>\n",
              "    <tr>\n",
              "      <th>75%</th>\n",
              "      <td>182.000000</td>\n",
              "    </tr>\n",
              "    <tr>\n",
              "      <th>max</th>\n",
              "      <td>410.000000</td>\n",
              "    </tr>\n",
              "  </tbody>\n",
              "</table>\n",
              "</div>"
            ],
            "text/plain": [
              "              size\n",
              "count  6058.000000\n",
              "mean    155.640310\n",
              "std      72.376817\n",
              "min      24.000000\n",
              "25%      81.000000\n",
              "50%     122.000000\n",
              "75%     182.000000\n",
              "max     410.000000"
            ]
          },
          "metadata": {
            "tags": []
          },
          "execution_count": 7
        }
      ]
    },
    {
      "cell_type": "code",
      "metadata": {
        "id": "IIDDw06DqSBm"
      },
      "source": [
        "def image_size(path):\n",
        "    img = Image.open(path)\n",
        "    #print('image at {} accessed'.format(path))\n",
        "    return img.size[0]    #taking only the first index value as all the images are in the form of a square"
      ],
      "execution_count": null,
      "outputs": []
    },
    {
      "cell_type": "code",
      "metadata": {
        "id": "Tnk9Cs_KqSBv",
        "outputId": "90f11244-633e-425b-c943-1db313950b42"
      },
      "source": [
        "df_updated = df[df['size']>80]    #considering those elements which have a size>80 \n",
        "len(df_updated)"
      ],
      "execution_count": null,
      "outputs": [
        {
          "output_type": "execute_result",
          "data": {
            "text/plain": [
              "5462"
            ]
          },
          "metadata": {
            "tags": []
          },
          "execution_count": 8
        }
      ]
    },
    {
      "cell_type": "code",
      "metadata": {
        "id": "rIenP42JqSBw",
        "outputId": "4937a93b-1860-4b9a-9d13-5536e613e733"
      },
      "source": [
        "def find_gender(path_string):\n",
        "    #splitting the path_string to get the gender\n",
        "    return path_string.split('\\\\')[1].split('_')[0]\n",
        "#adding a gender column to the dataframe\n",
        "df_updated['gender'] = df_updated['path'].apply(find_gender)"
      ],
      "execution_count": null,
      "outputs": [
        {
          "output_type": "stream",
          "text": [
            "C:\\Users\\sujay\\Anaconda3\\lib\\site-packages\\ipykernel_launcher.py:5: SettingWithCopyWarning: \n",
            "A value is trying to be set on a copy of a slice from a DataFrame.\n",
            "Try using .loc[row_indexer,col_indexer] = value instead\n",
            "\n",
            "See the caveats in the documentation: http://pandas.pydata.org/pandas-docs/stable/indexing.html#indexing-view-versus-copy\n",
            "  \"\"\"\n"
          ],
          "name": "stderr"
        }
      ]
    },
    {
      "cell_type": "code",
      "metadata": {
        "id": "lmV4YodcqSBx",
        "outputId": "568d13d6-df89-4c22-fe96-e9afe88e2555"
      },
      "source": [
        "#image resize\n",
        "def resize_image(image_path):\n",
        "    if image_path:\n",
        "    #image_path = df['path'][0]\n",
        "        img = cv2.imread(image_path)    #selecting the image to be resized\n",
        "        gray = cv2.cvtColor(img, cv2.COLOR_BGR2GRAY) #converting the image to grayscale\n",
        "        if (gray.shape[0]) >= 100:\n",
        "            resized_gray = cv2.resize(gray,(100,100),cv2.INTER_AREA)   #shrinking to 100x100 if larger \n",
        "        elif (gray.shape[0]) < 100:\n",
        "            resized_gray = cv2.resize(gray,(100,100),cv2.INTER_CUBIC)  #enlarging to 100x100 if smaller\n",
        "        return resized_gray.flatten()  #condensing the values of the resized image into a 1-D array which consists of 10000 elements\n",
        "    elif not image_path:\n",
        "        return None\n",
        "\n",
        "df_updated['structured_data'] = df_updated['path'].apply(resize_image)\n",
        "df_updated"
      ],
      "execution_count": null,
      "outputs": [
        {
          "output_type": "stream",
          "text": [
            "C:\\Users\\sujay\\Anaconda3\\lib\\site-packages\\ipykernel_launcher.py:15: SettingWithCopyWarning: \n",
            "A value is trying to be set on a copy of a slice from a DataFrame.\n",
            "Try using .loc[row_indexer,col_indexer] = value instead\n",
            "\n",
            "See the caveats in the documentation: http://pandas.pydata.org/pandas-docs/stable/indexing.html#indexing-view-versus-copy\n",
            "  from ipykernel import kernelapp as app\n"
          ],
          "name": "stderr"
        },
        {
          "output_type": "execute_result",
          "data": {
            "text/html": [
              "<div>\n",
              "<style scoped>\n",
              "    .dataframe tbody tr th:only-of-type {\n",
              "        vertical-align: middle;\n",
              "    }\n",
              "\n",
              "    .dataframe tbody tr th {\n",
              "        vertical-align: top;\n",
              "    }\n",
              "\n",
              "    .dataframe thead th {\n",
              "        text-align: right;\n",
              "    }\n",
              "</style>\n",
              "<table border=\"1\" class=\"dataframe\">\n",
              "  <thead>\n",
              "    <tr style=\"text-align: right;\">\n",
              "      <th></th>\n",
              "      <th>path</th>\n",
              "      <th>size</th>\n",
              "      <th>gender</th>\n",
              "      <th>structured_data</th>\n",
              "    </tr>\n",
              "  </thead>\n",
              "  <tbody>\n",
              "    <tr>\n",
              "      <th>0</th>\n",
              "      <td>./data/cropped/female_crop\\female_0.png</td>\n",
              "      <td>273</td>\n",
              "      <td>female</td>\n",
              "      <td>[188, 180, 184, 188, 173, 179, 192, 178, 216, ...</td>\n",
              "    </tr>\n",
              "    <tr>\n",
              "      <th>1</th>\n",
              "      <td>./data/cropped/female_crop\\female_1.png</td>\n",
              "      <td>182</td>\n",
              "      <td>female</td>\n",
              "      <td>[32, 24, 32, 27, 29, 29, 29, 32, 36, 30, 46, 8...</td>\n",
              "    </tr>\n",
              "    <tr>\n",
              "      <th>2</th>\n",
              "      <td>./data/cropped/female_crop\\female_100.png</td>\n",
              "      <td>182</td>\n",
              "      <td>female</td>\n",
              "      <td>[22, 30, 39, 36, 30, 61, 11, 17, 10, 19, 13, 1...</td>\n",
              "    </tr>\n",
              "    <tr>\n",
              "      <th>3</th>\n",
              "      <td>./data/cropped/female_crop\\female_1003.png</td>\n",
              "      <td>182</td>\n",
              "      <td>female</td>\n",
              "      <td>[35, 35, 35, 35, 35, 35, 35, 35, 35, 35, 35, 3...</td>\n",
              "    </tr>\n",
              "    <tr>\n",
              "      <th>4</th>\n",
              "      <td>./data/cropped/female_crop\\female_1008.png</td>\n",
              "      <td>81</td>\n",
              "      <td>female</td>\n",
              "      <td>[86, 86, 71, 54, 45, 49, 33, 20, 18, 23, 27, 2...</td>\n",
              "    </tr>\n",
              "    <tr>\n",
              "      <th>5</th>\n",
              "      <td>./data/cropped/female_crop\\female_1009.png</td>\n",
              "      <td>182</td>\n",
              "      <td>female</td>\n",
              "      <td>[81, 80, 83, 79, 74, 68, 64, 55, 55, 56, 60, 5...</td>\n",
              "    </tr>\n",
              "    <tr>\n",
              "      <th>6</th>\n",
              "      <td>./data/cropped/female_crop\\female_1012.png</td>\n",
              "      <td>273</td>\n",
              "      <td>female</td>\n",
              "      <td>[69, 66, 67, 67, 68, 66, 67, 67, 65, 71, 79, 8...</td>\n",
              "    </tr>\n",
              "    <tr>\n",
              "      <th>7</th>\n",
              "      <td>./data/cropped/female_crop\\female_1014.png</td>\n",
              "      <td>122</td>\n",
              "      <td>female</td>\n",
              "      <td>[183, 170, 173, 161, 88, 27, 20, 6, 2, 15, 5, ...</td>\n",
              "    </tr>\n",
              "    <tr>\n",
              "      <th>8</th>\n",
              "      <td>./data/cropped/female_crop\\female_1017.png</td>\n",
              "      <td>182</td>\n",
              "      <td>female</td>\n",
              "      <td>[31, 33, 37, 30, 30, 31, 29, 34, 29, 28, 31, 3...</td>\n",
              "    </tr>\n",
              "    <tr>\n",
              "      <th>9</th>\n",
              "      <td>./data/cropped/female_crop\\female_102.png</td>\n",
              "      <td>182</td>\n",
              "      <td>female</td>\n",
              "      <td>[126, 128, 128, 128, 126, 127, 127, 128, 128, ...</td>\n",
              "    </tr>\n",
              "    <tr>\n",
              "      <th>10</th>\n",
              "      <td>./data/cropped/female_crop\\female_1021.png</td>\n",
              "      <td>273</td>\n",
              "      <td>female</td>\n",
              "      <td>[179, 191, 198, 194, 195, 200, 209, 184, 181, ...</td>\n",
              "    </tr>\n",
              "    <tr>\n",
              "      <th>11</th>\n",
              "      <td>./data/cropped/female_crop\\female_1022.png</td>\n",
              "      <td>182</td>\n",
              "      <td>female</td>\n",
              "      <td>[14, 38, 28, 19, 26, 26, 7, 14, 13, 29, 33, 23...</td>\n",
              "    </tr>\n",
              "    <tr>\n",
              "      <th>12</th>\n",
              "      <td>./data/cropped/female_crop\\female_1024.png</td>\n",
              "      <td>182</td>\n",
              "      <td>female</td>\n",
              "      <td>[35, 35, 35, 35, 35, 35, 35, 35, 35, 35, 35, 3...</td>\n",
              "    </tr>\n",
              "    <tr>\n",
              "      <th>13</th>\n",
              "      <td>./data/cropped/female_crop\\female_1025.png</td>\n",
              "      <td>122</td>\n",
              "      <td>female</td>\n",
              "      <td>[40, 43, 44, 41, 39, 39, 36, 32, 34, 38, 36, 3...</td>\n",
              "    </tr>\n",
              "    <tr>\n",
              "      <th>14</th>\n",
              "      <td>./data/cropped/female_crop\\female_1026.png</td>\n",
              "      <td>81</td>\n",
              "      <td>female</td>\n",
              "      <td>[40, 38, 49, 72, 94, 99, 93, 90, 72, 45, 44, 5...</td>\n",
              "    </tr>\n",
              "    <tr>\n",
              "      <th>15</th>\n",
              "      <td>./data/cropped/female_crop\\female_1027.png</td>\n",
              "      <td>81</td>\n",
              "      <td>female</td>\n",
              "      <td>[9, 4, 1, 4, 13, 28, 19, 23, 25, 24, 46, 38, 5...</td>\n",
              "    </tr>\n",
              "    <tr>\n",
              "      <th>16</th>\n",
              "      <td>./data/cropped/female_crop\\female_1029.png</td>\n",
              "      <td>182</td>\n",
              "      <td>female</td>\n",
              "      <td>[124, 128, 124, 114, 67, 42, 47, 33, 27, 21, 5...</td>\n",
              "    </tr>\n",
              "    <tr>\n",
              "      <th>17</th>\n",
              "      <td>./data/cropped/female_crop\\female_1030.png</td>\n",
              "      <td>81</td>\n",
              "      <td>female</td>\n",
              "      <td>[28, 28, 29, 30, 30, 30, 30, 32, 34, 36, 35, 3...</td>\n",
              "    </tr>\n",
              "    <tr>\n",
              "      <th>18</th>\n",
              "      <td>./data/cropped/female_crop\\female_1032.png</td>\n",
              "      <td>122</td>\n",
              "      <td>female</td>\n",
              "      <td>[51, 47, 38, 39, 49, 37, 24, 133, 200, 210, 19...</td>\n",
              "    </tr>\n",
              "    <tr>\n",
              "      <th>19</th>\n",
              "      <td>./data/cropped/female_crop\\female_1033.png</td>\n",
              "      <td>273</td>\n",
              "      <td>female</td>\n",
              "      <td>[35, 31, 36, 24, 41, 28, 35, 37, 28, 26, 15, 1...</td>\n",
              "    </tr>\n",
              "    <tr>\n",
              "      <th>20</th>\n",
              "      <td>./data/cropped/female_crop\\female_1034.png</td>\n",
              "      <td>122</td>\n",
              "      <td>female</td>\n",
              "      <td>[51, 47, 38, 39, 49, 37, 24, 133, 200, 210, 19...</td>\n",
              "    </tr>\n",
              "    <tr>\n",
              "      <th>21</th>\n",
              "      <td>./data/cropped/female_crop\\female_1035.png</td>\n",
              "      <td>122</td>\n",
              "      <td>female</td>\n",
              "      <td>[122, 122, 122, 122, 122, 114, 109, 103, 96, 8...</td>\n",
              "    </tr>\n",
              "    <tr>\n",
              "      <th>22</th>\n",
              "      <td>./data/cropped/female_crop\\female_1041.png</td>\n",
              "      <td>182</td>\n",
              "      <td>female</td>\n",
              "      <td>[29, 43, 23, 44, 96, 108, 59, 63, 71, 100, 126...</td>\n",
              "    </tr>\n",
              "    <tr>\n",
              "      <th>23</th>\n",
              "      <td>./data/cropped/female_crop\\female_1045.png</td>\n",
              "      <td>122</td>\n",
              "      <td>female</td>\n",
              "      <td>[51, 47, 38, 39, 49, 37, 24, 133, 200, 210, 19...</td>\n",
              "    </tr>\n",
              "    <tr>\n",
              "      <th>24</th>\n",
              "      <td>./data/cropped/female_crop\\female_1046.png</td>\n",
              "      <td>182</td>\n",
              "      <td>female</td>\n",
              "      <td>[17, 7, 7, 6, 4, 3, 4, 6, 6, 6, 6, 7, 5, 7, 7,...</td>\n",
              "    </tr>\n",
              "    <tr>\n",
              "      <th>25</th>\n",
              "      <td>./data/cropped/female_crop\\female_1048.png</td>\n",
              "      <td>182</td>\n",
              "      <td>female</td>\n",
              "      <td>[35, 35, 35, 35, 35, 35, 35, 35, 35, 35, 35, 3...</td>\n",
              "    </tr>\n",
              "    <tr>\n",
              "      <th>26</th>\n",
              "      <td>./data/cropped/female_crop\\female_1049.png</td>\n",
              "      <td>182</td>\n",
              "      <td>female</td>\n",
              "      <td>[11, 11, 11, 12, 14, 15, 15, 16, 18, 17, 15, 1...</td>\n",
              "    </tr>\n",
              "    <tr>\n",
              "      <th>27</th>\n",
              "      <td>./data/cropped/female_crop\\female_105.png</td>\n",
              "      <td>122</td>\n",
              "      <td>female</td>\n",
              "      <td>[31, 29, 25, 20, 19, 37, 41, 35, 26, 25, 29, 3...</td>\n",
              "    </tr>\n",
              "    <tr>\n",
              "      <th>29</th>\n",
              "      <td>./data/cropped/female_crop\\female_1051.png</td>\n",
              "      <td>81</td>\n",
              "      <td>female</td>\n",
              "      <td>[2, 2, 2, 2, 2, 2, 2, 2, 2, 2, 2, 2, 6, 5, 2, ...</td>\n",
              "    </tr>\n",
              "    <tr>\n",
              "      <th>30</th>\n",
              "      <td>./data/cropped/female_crop\\female_1052.png</td>\n",
              "      <td>182</td>\n",
              "      <td>female</td>\n",
              "      <td>[102, 136, 106, 89, 57, 71, 104, 113, 119, 118...</td>\n",
              "    </tr>\n",
              "    <tr>\n",
              "      <th>...</th>\n",
              "      <td>...</td>\n",
              "      <td>...</td>\n",
              "      <td>...</td>\n",
              "      <td>...</td>\n",
              "    </tr>\n",
              "    <tr>\n",
              "      <th>6025</th>\n",
              "      <td>./data/cropped/male_crop\\male_911.png</td>\n",
              "      <td>122</td>\n",
              "      <td>male</td>\n",
              "      <td>[42, 29, 20, 27, 38, 40, 39, 42, 46, 49, 49, 4...</td>\n",
              "    </tr>\n",
              "    <tr>\n",
              "      <th>6026</th>\n",
              "      <td>./data/cropped/male_crop\\male_914.png</td>\n",
              "      <td>182</td>\n",
              "      <td>male</td>\n",
              "      <td>[112, 100, 110, 106, 105, 111, 102, 101, 60, 6...</td>\n",
              "    </tr>\n",
              "    <tr>\n",
              "      <th>6028</th>\n",
              "      <td>./data/cropped/male_crop\\male_919.png</td>\n",
              "      <td>122</td>\n",
              "      <td>male</td>\n",
              "      <td>[19, 20, 18, 19, 20, 20, 21, 20, 20, 19, 19, 1...</td>\n",
              "    </tr>\n",
              "    <tr>\n",
              "      <th>6029</th>\n",
              "      <td>./data/cropped/male_crop\\male_923.png</td>\n",
              "      <td>122</td>\n",
              "      <td>male</td>\n",
              "      <td>[34, 38, 40, 37, 37, 43, 44, 41, 38, 43, 25, 1...</td>\n",
              "    </tr>\n",
              "    <tr>\n",
              "      <th>6030</th>\n",
              "      <td>./data/cropped/male_crop\\male_924.png</td>\n",
              "      <td>81</td>\n",
              "      <td>male</td>\n",
              "      <td>[9, 20, 35, 38, 21, 1, 8, 15, 29, 42, 28, 45, ...</td>\n",
              "    </tr>\n",
              "    <tr>\n",
              "      <th>6031</th>\n",
              "      <td>./data/cropped/male_crop\\male_925.png</td>\n",
              "      <td>182</td>\n",
              "      <td>male</td>\n",
              "      <td>[112, 100, 110, 106, 105, 111, 102, 101, 60, 6...</td>\n",
              "    </tr>\n",
              "    <tr>\n",
              "      <th>6032</th>\n",
              "      <td>./data/cropped/male_crop\\male_929.png</td>\n",
              "      <td>122</td>\n",
              "      <td>male</td>\n",
              "      <td>[69, 84, 99, 104, 99, 94, 89, 84, 79, 75, 73, ...</td>\n",
              "    </tr>\n",
              "    <tr>\n",
              "      <th>6033</th>\n",
              "      <td>./data/cropped/male_crop\\male_932.png</td>\n",
              "      <td>122</td>\n",
              "      <td>male</td>\n",
              "      <td>[158, 159, 158, 155, 154, 151, 150, 153, 154, ...</td>\n",
              "    </tr>\n",
              "    <tr>\n",
              "      <th>6034</th>\n",
              "      <td>./data/cropped/male_crop\\male_934.png</td>\n",
              "      <td>182</td>\n",
              "      <td>male</td>\n",
              "      <td>[23, 25, 25, 29, 34, 39, 41, 44, 52, 54, 61, 6...</td>\n",
              "    </tr>\n",
              "    <tr>\n",
              "      <th>6035</th>\n",
              "      <td>./data/cropped/male_crop\\male_935.png</td>\n",
              "      <td>273</td>\n",
              "      <td>male</td>\n",
              "      <td>[178, 177, 175, 175, 174, 176, 178, 180, 179, ...</td>\n",
              "    </tr>\n",
              "    <tr>\n",
              "      <th>6036</th>\n",
              "      <td>./data/cropped/male_crop\\male_938.png</td>\n",
              "      <td>273</td>\n",
              "      <td>male</td>\n",
              "      <td>[14, 14, 14, 14, 14, 14, 14, 14, 14, 14, 14, 1...</td>\n",
              "    </tr>\n",
              "    <tr>\n",
              "      <th>6037</th>\n",
              "      <td>./data/cropped/male_crop\\male_939.png</td>\n",
              "      <td>273</td>\n",
              "      <td>male</td>\n",
              "      <td>[86, 86, 88, 75, 77, 39, 31, 21, 16, 13, 6, 6,...</td>\n",
              "    </tr>\n",
              "    <tr>\n",
              "      <th>6038</th>\n",
              "      <td>./data/cropped/male_crop\\male_941.png</td>\n",
              "      <td>273</td>\n",
              "      <td>male</td>\n",
              "      <td>[145, 147, 147, 148, 149, 148, 149, 150, 148, ...</td>\n",
              "    </tr>\n",
              "    <tr>\n",
              "      <th>6039</th>\n",
              "      <td>./data/cropped/male_crop\\male_944.png</td>\n",
              "      <td>182</td>\n",
              "      <td>male</td>\n",
              "      <td>[68, 62, 84, 83, 91, 99, 129, 53, 62, 71, 91, ...</td>\n",
              "    </tr>\n",
              "    <tr>\n",
              "      <th>6040</th>\n",
              "      <td>./data/cropped/male_crop\\male_949.png</td>\n",
              "      <td>182</td>\n",
              "      <td>male</td>\n",
              "      <td>[131, 133, 133, 133, 133, 124, 125, 49, 41, 33...</td>\n",
              "    </tr>\n",
              "    <tr>\n",
              "      <th>6042</th>\n",
              "      <td>./data/cropped/male_crop\\male_954.png</td>\n",
              "      <td>182</td>\n",
              "      <td>male</td>\n",
              "      <td>[55, 49, 51, 65, 74, 70, 89, 125, 152, 157, 15...</td>\n",
              "    </tr>\n",
              "    <tr>\n",
              "      <th>6043</th>\n",
              "      <td>./data/cropped/male_crop\\male_959.png</td>\n",
              "      <td>122</td>\n",
              "      <td>male</td>\n",
              "      <td>[52, 46, 59, 76, 70, 71, 84, 90, 81, 70, 60, 5...</td>\n",
              "    </tr>\n",
              "    <tr>\n",
              "      <th>6044</th>\n",
              "      <td>./data/cropped/male_crop\\male_960.png</td>\n",
              "      <td>81</td>\n",
              "      <td>male</td>\n",
              "      <td>[141, 141, 141, 141, 141, 141, 141, 141, 141, ...</td>\n",
              "    </tr>\n",
              "    <tr>\n",
              "      <th>6045</th>\n",
              "      <td>./data/cropped/male_crop\\male_965.png</td>\n",
              "      <td>273</td>\n",
              "      <td>male</td>\n",
              "      <td>[167, 159, 156, 206, 239, 244, 244, 230, 199, ...</td>\n",
              "    </tr>\n",
              "    <tr>\n",
              "      <th>6046</th>\n",
              "      <td>./data/cropped/male_crop\\male_967.png</td>\n",
              "      <td>182</td>\n",
              "      <td>male</td>\n",
              "      <td>[69, 70, 70, 70, 70, 69, 70, 69, 71, 74, 84, 9...</td>\n",
              "    </tr>\n",
              "    <tr>\n",
              "      <th>6047</th>\n",
              "      <td>./data/cropped/male_crop\\male_968.png</td>\n",
              "      <td>182</td>\n",
              "      <td>male</td>\n",
              "      <td>[231, 228, 232, 225, 235, 130, 96, 70, 93, 126...</td>\n",
              "    </tr>\n",
              "    <tr>\n",
              "      <th>6048</th>\n",
              "      <td>./data/cropped/male_crop\\male_969.png</td>\n",
              "      <td>273</td>\n",
              "      <td>male</td>\n",
              "      <td>[225, 225, 224, 223, 221, 137, 97, 91, 92, 83,...</td>\n",
              "    </tr>\n",
              "    <tr>\n",
              "      <th>6049</th>\n",
              "      <td>./data/cropped/male_crop\\male_971.png</td>\n",
              "      <td>273</td>\n",
              "      <td>male</td>\n",
              "      <td>[247, 249, 248, 248, 251, 119, 53, 45, 56, 53,...</td>\n",
              "    </tr>\n",
              "    <tr>\n",
              "      <th>6051</th>\n",
              "      <td>./data/cropped/male_crop\\male_980.png</td>\n",
              "      <td>182</td>\n",
              "      <td>male</td>\n",
              "      <td>[91, 83, 69, 68, 73, 86, 82, 70, 62, 69, 76, 7...</td>\n",
              "    </tr>\n",
              "    <tr>\n",
              "      <th>6052</th>\n",
              "      <td>./data/cropped/male_crop\\male_982.png</td>\n",
              "      <td>122</td>\n",
              "      <td>male</td>\n",
              "      <td>[108, 98, 92, 92, 95, 98, 98, 78, 51, 32, 19, ...</td>\n",
              "    </tr>\n",
              "    <tr>\n",
              "      <th>6053</th>\n",
              "      <td>./data/cropped/male_crop\\male_989.png</td>\n",
              "      <td>182</td>\n",
              "      <td>male</td>\n",
              "      <td>[31, 31, 31, 31, 31, 31, 31, 31, 30, 29, 29, 3...</td>\n",
              "    </tr>\n",
              "    <tr>\n",
              "      <th>6054</th>\n",
              "      <td>./data/cropped/male_crop\\male_99.png</td>\n",
              "      <td>273</td>\n",
              "      <td>male</td>\n",
              "      <td>[88, 41, 33, 18, 15, 14, 13, 29, 25, 74, 114, ...</td>\n",
              "    </tr>\n",
              "    <tr>\n",
              "      <th>6055</th>\n",
              "      <td>./data/cropped/male_crop\\male_991.png</td>\n",
              "      <td>182</td>\n",
              "      <td>male</td>\n",
              "      <td>[30, 30, 30, 29, 29, 29, 29, 27, 28, 28, 26, 2...</td>\n",
              "    </tr>\n",
              "    <tr>\n",
              "      <th>6056</th>\n",
              "      <td>./data/cropped/male_crop\\male_995.png</td>\n",
              "      <td>182</td>\n",
              "      <td>male</td>\n",
              "      <td>[21, 27, 31, 24, 19, 24, 21, 19, 31, 36, 15, 2...</td>\n",
              "    </tr>\n",
              "    <tr>\n",
              "      <th>6057</th>\n",
              "      <td>./data/cropped/male_crop\\male_999.png</td>\n",
              "      <td>273</td>\n",
              "      <td>male</td>\n",
              "      <td>[4, 3, 2, 2, 2, 0, 1, 7, 6, 17, 18, 2, 6, 16, ...</td>\n",
              "    </tr>\n",
              "  </tbody>\n",
              "</table>\n",
              "<p>5462 rows × 4 columns</p>\n",
              "</div>"
            ],
            "text/plain": [
              "                                            path  size  gender  \\\n",
              "0        ./data/cropped/female_crop\\female_0.png   273  female   \n",
              "1        ./data/cropped/female_crop\\female_1.png   182  female   \n",
              "2      ./data/cropped/female_crop\\female_100.png   182  female   \n",
              "3     ./data/cropped/female_crop\\female_1003.png   182  female   \n",
              "4     ./data/cropped/female_crop\\female_1008.png    81  female   \n",
              "5     ./data/cropped/female_crop\\female_1009.png   182  female   \n",
              "6     ./data/cropped/female_crop\\female_1012.png   273  female   \n",
              "7     ./data/cropped/female_crop\\female_1014.png   122  female   \n",
              "8     ./data/cropped/female_crop\\female_1017.png   182  female   \n",
              "9      ./data/cropped/female_crop\\female_102.png   182  female   \n",
              "10    ./data/cropped/female_crop\\female_1021.png   273  female   \n",
              "11    ./data/cropped/female_crop\\female_1022.png   182  female   \n",
              "12    ./data/cropped/female_crop\\female_1024.png   182  female   \n",
              "13    ./data/cropped/female_crop\\female_1025.png   122  female   \n",
              "14    ./data/cropped/female_crop\\female_1026.png    81  female   \n",
              "15    ./data/cropped/female_crop\\female_1027.png    81  female   \n",
              "16    ./data/cropped/female_crop\\female_1029.png   182  female   \n",
              "17    ./data/cropped/female_crop\\female_1030.png    81  female   \n",
              "18    ./data/cropped/female_crop\\female_1032.png   122  female   \n",
              "19    ./data/cropped/female_crop\\female_1033.png   273  female   \n",
              "20    ./data/cropped/female_crop\\female_1034.png   122  female   \n",
              "21    ./data/cropped/female_crop\\female_1035.png   122  female   \n",
              "22    ./data/cropped/female_crop\\female_1041.png   182  female   \n",
              "23    ./data/cropped/female_crop\\female_1045.png   122  female   \n",
              "24    ./data/cropped/female_crop\\female_1046.png   182  female   \n",
              "25    ./data/cropped/female_crop\\female_1048.png   182  female   \n",
              "26    ./data/cropped/female_crop\\female_1049.png   182  female   \n",
              "27     ./data/cropped/female_crop\\female_105.png   122  female   \n",
              "29    ./data/cropped/female_crop\\female_1051.png    81  female   \n",
              "30    ./data/cropped/female_crop\\female_1052.png   182  female   \n",
              "...                                          ...   ...     ...   \n",
              "6025       ./data/cropped/male_crop\\male_911.png   122    male   \n",
              "6026       ./data/cropped/male_crop\\male_914.png   182    male   \n",
              "6028       ./data/cropped/male_crop\\male_919.png   122    male   \n",
              "6029       ./data/cropped/male_crop\\male_923.png   122    male   \n",
              "6030       ./data/cropped/male_crop\\male_924.png    81    male   \n",
              "6031       ./data/cropped/male_crop\\male_925.png   182    male   \n",
              "6032       ./data/cropped/male_crop\\male_929.png   122    male   \n",
              "6033       ./data/cropped/male_crop\\male_932.png   122    male   \n",
              "6034       ./data/cropped/male_crop\\male_934.png   182    male   \n",
              "6035       ./data/cropped/male_crop\\male_935.png   273    male   \n",
              "6036       ./data/cropped/male_crop\\male_938.png   273    male   \n",
              "6037       ./data/cropped/male_crop\\male_939.png   273    male   \n",
              "6038       ./data/cropped/male_crop\\male_941.png   273    male   \n",
              "6039       ./data/cropped/male_crop\\male_944.png   182    male   \n",
              "6040       ./data/cropped/male_crop\\male_949.png   182    male   \n",
              "6042       ./data/cropped/male_crop\\male_954.png   182    male   \n",
              "6043       ./data/cropped/male_crop\\male_959.png   122    male   \n",
              "6044       ./data/cropped/male_crop\\male_960.png    81    male   \n",
              "6045       ./data/cropped/male_crop\\male_965.png   273    male   \n",
              "6046       ./data/cropped/male_crop\\male_967.png   182    male   \n",
              "6047       ./data/cropped/male_crop\\male_968.png   182    male   \n",
              "6048       ./data/cropped/male_crop\\male_969.png   273    male   \n",
              "6049       ./data/cropped/male_crop\\male_971.png   273    male   \n",
              "6051       ./data/cropped/male_crop\\male_980.png   182    male   \n",
              "6052       ./data/cropped/male_crop\\male_982.png   122    male   \n",
              "6053       ./data/cropped/male_crop\\male_989.png   182    male   \n",
              "6054        ./data/cropped/male_crop\\male_99.png   273    male   \n",
              "6055       ./data/cropped/male_crop\\male_991.png   182    male   \n",
              "6056       ./data/cropped/male_crop\\male_995.png   182    male   \n",
              "6057       ./data/cropped/male_crop\\male_999.png   273    male   \n",
              "\n",
              "                                        structured_data  \n",
              "0     [188, 180, 184, 188, 173, 179, 192, 178, 216, ...  \n",
              "1     [32, 24, 32, 27, 29, 29, 29, 32, 36, 30, 46, 8...  \n",
              "2     [22, 30, 39, 36, 30, 61, 11, 17, 10, 19, 13, 1...  \n",
              "3     [35, 35, 35, 35, 35, 35, 35, 35, 35, 35, 35, 3...  \n",
              "4     [86, 86, 71, 54, 45, 49, 33, 20, 18, 23, 27, 2...  \n",
              "5     [81, 80, 83, 79, 74, 68, 64, 55, 55, 56, 60, 5...  \n",
              "6     [69, 66, 67, 67, 68, 66, 67, 67, 65, 71, 79, 8...  \n",
              "7     [183, 170, 173, 161, 88, 27, 20, 6, 2, 15, 5, ...  \n",
              "8     [31, 33, 37, 30, 30, 31, 29, 34, 29, 28, 31, 3...  \n",
              "9     [126, 128, 128, 128, 126, 127, 127, 128, 128, ...  \n",
              "10    [179, 191, 198, 194, 195, 200, 209, 184, 181, ...  \n",
              "11    [14, 38, 28, 19, 26, 26, 7, 14, 13, 29, 33, 23...  \n",
              "12    [35, 35, 35, 35, 35, 35, 35, 35, 35, 35, 35, 3...  \n",
              "13    [40, 43, 44, 41, 39, 39, 36, 32, 34, 38, 36, 3...  \n",
              "14    [40, 38, 49, 72, 94, 99, 93, 90, 72, 45, 44, 5...  \n",
              "15    [9, 4, 1, 4, 13, 28, 19, 23, 25, 24, 46, 38, 5...  \n",
              "16    [124, 128, 124, 114, 67, 42, 47, 33, 27, 21, 5...  \n",
              "17    [28, 28, 29, 30, 30, 30, 30, 32, 34, 36, 35, 3...  \n",
              "18    [51, 47, 38, 39, 49, 37, 24, 133, 200, 210, 19...  \n",
              "19    [35, 31, 36, 24, 41, 28, 35, 37, 28, 26, 15, 1...  \n",
              "20    [51, 47, 38, 39, 49, 37, 24, 133, 200, 210, 19...  \n",
              "21    [122, 122, 122, 122, 122, 114, 109, 103, 96, 8...  \n",
              "22    [29, 43, 23, 44, 96, 108, 59, 63, 71, 100, 126...  \n",
              "23    [51, 47, 38, 39, 49, 37, 24, 133, 200, 210, 19...  \n",
              "24    [17, 7, 7, 6, 4, 3, 4, 6, 6, 6, 6, 7, 5, 7, 7,...  \n",
              "25    [35, 35, 35, 35, 35, 35, 35, 35, 35, 35, 35, 3...  \n",
              "26    [11, 11, 11, 12, 14, 15, 15, 16, 18, 17, 15, 1...  \n",
              "27    [31, 29, 25, 20, 19, 37, 41, 35, 26, 25, 29, 3...  \n",
              "29    [2, 2, 2, 2, 2, 2, 2, 2, 2, 2, 2, 2, 6, 5, 2, ...  \n",
              "30    [102, 136, 106, 89, 57, 71, 104, 113, 119, 118...  \n",
              "...                                                 ...  \n",
              "6025  [42, 29, 20, 27, 38, 40, 39, 42, 46, 49, 49, 4...  \n",
              "6026  [112, 100, 110, 106, 105, 111, 102, 101, 60, 6...  \n",
              "6028  [19, 20, 18, 19, 20, 20, 21, 20, 20, 19, 19, 1...  \n",
              "6029  [34, 38, 40, 37, 37, 43, 44, 41, 38, 43, 25, 1...  \n",
              "6030  [9, 20, 35, 38, 21, 1, 8, 15, 29, 42, 28, 45, ...  \n",
              "6031  [112, 100, 110, 106, 105, 111, 102, 101, 60, 6...  \n",
              "6032  [69, 84, 99, 104, 99, 94, 89, 84, 79, 75, 73, ...  \n",
              "6033  [158, 159, 158, 155, 154, 151, 150, 153, 154, ...  \n",
              "6034  [23, 25, 25, 29, 34, 39, 41, 44, 52, 54, 61, 6...  \n",
              "6035  [178, 177, 175, 175, 174, 176, 178, 180, 179, ...  \n",
              "6036  [14, 14, 14, 14, 14, 14, 14, 14, 14, 14, 14, 1...  \n",
              "6037  [86, 86, 88, 75, 77, 39, 31, 21, 16, 13, 6, 6,...  \n",
              "6038  [145, 147, 147, 148, 149, 148, 149, 150, 148, ...  \n",
              "6039  [68, 62, 84, 83, 91, 99, 129, 53, 62, 71, 91, ...  \n",
              "6040  [131, 133, 133, 133, 133, 124, 125, 49, 41, 33...  \n",
              "6042  [55, 49, 51, 65, 74, 70, 89, 125, 152, 157, 15...  \n",
              "6043  [52, 46, 59, 76, 70, 71, 84, 90, 81, 70, 60, 5...  \n",
              "6044  [141, 141, 141, 141, 141, 141, 141, 141, 141, ...  \n",
              "6045  [167, 159, 156, 206, 239, 244, 244, 230, 199, ...  \n",
              "6046  [69, 70, 70, 70, 70, 69, 70, 69, 71, 74, 84, 9...  \n",
              "6047  [231, 228, 232, 225, 235, 130, 96, 70, 93, 126...  \n",
              "6048  [225, 225, 224, 223, 221, 137, 97, 91, 92, 83,...  \n",
              "6049  [247, 249, 248, 248, 251, 119, 53, 45, 56, 53,...  \n",
              "6051  [91, 83, 69, 68, 73, 86, 82, 70, 62, 69, 76, 7...  \n",
              "6052  [108, 98, 92, 92, 95, 98, 98, 78, 51, 32, 19, ...  \n",
              "6053  [31, 31, 31, 31, 31, 31, 31, 31, 30, 29, 29, 3...  \n",
              "6054  [88, 41, 33, 18, 15, 14, 13, 29, 25, 74, 114, ...  \n",
              "6055  [30, 30, 30, 29, 29, 29, 29, 27, 28, 28, 26, 2...  \n",
              "6056  [21, 27, 31, 24, 19, 24, 21, 19, 31, 36, 15, 2...  \n",
              "6057  [4, 3, 2, 2, 2, 0, 1, 7, 6, 17, 18, 2, 6, 16, ...  \n",
              "\n",
              "[5462 rows x 4 columns]"
            ]
          },
          "metadata": {
            "tags": []
          },
          "execution_count": 10
        }
      ]
    },
    {
      "cell_type": "code",
      "metadata": {
        "id": "ck-JFT3OqSBy"
      },
      "source": [
        "df1 = df_updated['structured_data'].apply(pd.Series)\n",
        "df2 = pd.concat((df_updated['gender'],df1), axis=1)\n",
        "#pickle.d#ump(df2, open('./model/100x100_imageValues.pickle','wb'))"
      ],
      "execution_count": null,
      "outputs": []
    },
    {
      "cell_type": "code",
      "metadata": {
        "id": "wrcpR0iVqSBz"
      },
      "source": [
        "df2.dropna(axis=0,inplace=True)    #removing entries with null values"
      ],
      "execution_count": null,
      "outputs": []
    },
    {
      "cell_type": "code",
      "metadata": {
        "id": "gypJO5_AqSBz",
        "outputId": "90da78cc-e22e-472f-aec8-842639ddadea"
      },
      "source": [
        "independent = df2.iloc[:,1:] #selecting independent features that start with column 1 to 10000\n",
        "dependent = df2.iloc[:,0]  # selecting 0th column which denotes the gender \n",
        "independent.shape"
      ],
      "execution_count": null,
      "outputs": [
        {
          "output_type": "execute_result",
          "data": {
            "text/plain": [
              "(5462, 10000)"
            ]
          },
          "metadata": {
            "tags": []
          },
          "execution_count": 14
        }
      ]
    },
    {
      "cell_type": "code",
      "metadata": {
        "id": "Jy4455q0qSB0"
      },
      "source": [
        "#applying min max scaling to make sure all the values are between 0 and 1 after normalization\n",
        "from sklearn.preprocessing import MinMaxScaler\n",
        "scaler = MinMaxScaler(feature_range=(0,1))\n",
        "normalized_ind = scaler.fit_transform(independent)\n",
        "\n",
        "#normalizing the gender values by replacing males and females by 0's and 1's \n",
        "normalized_dep = np.where(dependent=='male',0,1)"
      ],
      "execution_count": null,
      "outputs": []
    },
    {
      "cell_type": "code",
      "metadata": {
        "id": "vFt7oEzLqSB1",
        "outputId": "bc1a03a1-6263-4b01-ba6c-c21b1ba5170f"
      },
      "source": [
        "ind1 = normalized_ind - normalized_ind.mean(axis=0)\n",
        "ind1"
      ],
      "execution_count": null,
      "outputs": [
        {
          "output_type": "execute_result",
          "data": {
            "text/plain": [
              "array([[ 0.36378042,  0.33561074,  0.35516905, ...,  0.09534969,\n",
              "         0.08285768,  0.0573682 ],\n",
              "       [-0.24798429, -0.27615396, -0.24090938, ..., -0.23406208,\n",
              "        -0.1328286 , -0.31125925],\n",
              "       [-0.28719998, -0.25262455, -0.2134584 , ...,  0.36985949,\n",
              "         0.31815179,  0.31619173],\n",
              "       ...,\n",
              "       [-0.25582743, -0.25262455, -0.24875252, ...,  0.08750655,\n",
              "         0.16128905,  0.15148585],\n",
              "       [-0.29112155, -0.26438926, -0.24483095, ..., -0.29680717,\n",
              "        -0.28969134, -0.2798867 ],\n",
              "       [-0.35778821, -0.3585069 , -0.35855644, ..., -0.02229737,\n",
              "        -0.02302468, -0.01322004]])"
            ]
          },
          "metadata": {
            "tags": []
          },
          "execution_count": 16
        }
      ]
    },
    {
      "cell_type": "code",
      "metadata": {
        "id": "MqgdoGlUqSB1",
        "outputId": "a58eb50a-3e66-406c-c577-c4e637160761"
      },
      "source": [
        "from sklearn.decomposition import PCA as pca\n",
        "my_pca = pca(n_components = 100, svd_solver =\"full\")    #using 100 as a trial value to check the variances for number of components below it\n",
        "my_pca.fit_transform(ind1)\n",
        "explained_var_ratio = my_pca.explained_variance_ratio_\n",
        "\n",
        "cum_explained_var = np.cumsum(explained_var_ratio)\n",
        "print(cum_explained_var)\n",
        "\n",
        "#(Reference: https://vitalflux.com/pca-explained-variance-concept-python-example/)\n",
        "plt.bar(range(0,len(explained_var_ratio)), explained_var_ratio, alpha=0.5, align='center', label='Individual explained variance')\n",
        "plt.step(range(0,len(cum_explained_var)), cum_explained_var, where='mid',label='Cumulative explained variance')\n",
        "plt.ylabel('Explained variance ratio')\n",
        "plt.xlabel('Principal component index')\n",
        "plt.legend(loc='best')\n",
        "plt.tight_layout()\n",
        "plt.show()"
      ],
      "execution_count": null,
      "outputs": [
        {
          "output_type": "stream",
          "text": [
            "[0.2522199  0.36754698 0.46976164 0.5208765  0.55323268 0.58447916\n",
            " 0.60981122 0.63033648 0.64387622 0.65681591 0.66876159 0.67994322\n",
            " 0.68914633 0.69816776 0.70594478 0.71334669 0.71982892 0.7257322\n",
            " 0.73111912 0.73635694 0.74138549 0.74623276 0.75099184 0.75563108\n",
            " 0.75980932 0.76382836 0.76761105 0.77116453 0.77452777 0.77767658\n",
            " 0.78072763 0.78371631 0.78657981 0.78940962 0.79207119 0.79467335\n",
            " 0.79709131 0.79946326 0.80173195 0.80395633 0.80616842 0.80830982\n",
            " 0.81038594 0.8123727  0.81428321 0.8161372  0.81798446 0.81979899\n",
            " 0.82159074 0.82332783 0.82503795 0.82671291 0.82838505 0.83002244\n",
            " 0.83158056 0.83311188 0.8346155  0.83609006 0.83751816 0.83891943\n",
            " 0.84031317 0.84166417 0.8429959  0.84432086 0.84562633 0.84687928\n",
            " 0.84812291 0.84933694 0.85053775 0.85171423 0.85286782 0.85401307\n",
            " 0.85511391 0.85618927 0.8572577  0.85830784 0.85933165 0.86034778\n",
            " 0.86135455 0.86235023 0.8633303  0.86426256 0.86518498 0.86610279\n",
            " 0.86701392 0.86791175 0.86879609 0.86967079 0.87051949 0.87135952\n",
            " 0.8721888  0.87298747 0.87377997 0.87456586 0.87533204 0.87609032\n",
            " 0.87684457 0.8775838  0.87831062 0.8790274 ]\n"
          ],
          "name": "stdout"
        },
        {
          "output_type": "display_data",
          "data": {
            "image/png": "[encoded data removed]",
            "text/plain": [
              "<Figure size 432x288 with 1 Axes>"
            ]
          },
          "metadata": {
            "tags": [],
            "needs_background": "light"
          }
        }
      ]
    },
    {
      "cell_type": "code",
      "metadata": {
        "id": "fIQl19aDqSB5",
        "outputId": "437c9a56-a543-4948-8069-7cc671e27d0c"
      },
      "source": [
        "ind1"
      ],
      "execution_count": null,
      "outputs": [
        {
          "output_type": "execute_result",
          "data": {
            "text/plain": [
              "array([[ 0.36378042,  0.33561074,  0.35516905, ...,  0.09534969,\n",
              "         0.08285768,  0.0573682 ],\n",
              "       [-0.24798429, -0.27615396, -0.24090938, ..., -0.23406208,\n",
              "        -0.1328286 , -0.31125925],\n",
              "       [-0.28719998, -0.25262455, -0.2134584 , ...,  0.36985949,\n",
              "         0.31815179,  0.31619173],\n",
              "       ...,\n",
              "       [-0.25582743, -0.25262455, -0.24875252, ...,  0.08750655,\n",
              "         0.16128905,  0.15148585],\n",
              "       [-0.29112155, -0.26438926, -0.24483095, ..., -0.29680717,\n",
              "        -0.28969134, -0.2798867 ],\n",
              "       [-0.35778821, -0.3585069 , -0.35855644, ..., -0.02229737,\n",
              "        -0.02302468, -0.01322004]])"
            ]
          },
          "metadata": {
            "tags": []
          },
          "execution_count": 23
        }
      ]
    },
    {
      "cell_type": "code",
      "metadata": {
        "id": "0EV4yojjqSB7",
        "outputId": "f9824123-813a-4256-8831-14aaea463527"
      },
      "source": [
        "from sklearn.decomposition import PCA as pca\n",
        "#creating a PCA object using 50 components\n",
        "updated_pca =  pca(n_components = 50, whiten=True, svd_solver =\"auto\")\n",
        "pca_independentVar = updated_pca.fit_transform(ind1)\n",
        "pca_independentVar"
      ],
      "execution_count": null,
      "outputs": [
        {
          "output_type": "execute_result",
          "data": {
            "text/plain": [
              "array([[ 0.89707361,  0.2754274 ,  0.3401019 , ...,  0.11252215,\n",
              "         0.62884305,  1.06368481],\n",
              "       [ 1.20316594, -0.23463016,  0.29676225, ..., -0.1796869 ,\n",
              "        -0.58982541, -1.25206707],\n",
              "       [ 0.30272424, -0.52088572, -0.78554115, ...,  0.77850797,\n",
              "         0.09744545,  0.59493398],\n",
              "       ...,\n",
              "       [-0.73180083, -1.78460157, -0.02019592, ...,  1.48312351,\n",
              "         0.78450124, -1.88631641],\n",
              "       [-0.28858351,  0.12128076,  0.94784913, ..., -1.54962326,\n",
              "        -0.06591403,  1.63474298],\n",
              "       [ 1.2015577 , -0.93303431, -2.93518964, ..., -0.48772208,\n",
              "         0.15351493, -0.52398417]])"
            ]
          },
          "metadata": {
            "tags": []
          },
          "execution_count": 24
        }
      ]
    },
    {
      "cell_type": "code",
      "metadata": {
        "id": "oF4paQqbqSB9"
      },
      "source": [
        "pickle.dump(updated_pca, open('./model/updated_pca.pickle','wb'))"
      ],
      "execution_count": null,
      "outputs": []
    },
    {
      "cell_type": "code",
      "metadata": {
        "id": "LUip0LnoqSB9"
      },
      "source": [
        "np.savez('./model/data_pca_dep_mean.pickle.npz',pca_independentVar,normalized_dep,normalized_ind.mean(axis=0))"
      ],
      "execution_count": null,
      "outputs": []
    },
    {
      "cell_type": "code",
      "metadata": {
        "id": "i-b8crh6qSB-"
      },
      "source": [
        "pca_inv = updated_pca.inverse_transform(pca_independentVar)"
      ],
      "execution_count": null,
      "outputs": []
    },
    {
      "cell_type": "code",
      "metadata": {
        "id": "IWaR0_0zqSB-"
      },
      "source": [
        "#Splitting pattern - 80%(train), 20%(test)\n",
        "from sklearn.model_selection import train_test_split\n",
        "pca_independentVar_train, pca_independentVar_test, normalized_dep_train, normalized_dep_test = train_test_split(pca_independentVar, normalized_dep, test_size=0.2, random_state=10)"
      ],
      "execution_count": null,
      "outputs": []
    },
    {
      "cell_type": "code",
      "metadata": {
        "id": "Sg3X6AA5qSB_",
        "outputId": "92f229db-a59a-4655-cf9a-8aa6c7bfafeb"
      },
      "source": [
        "from sklearn.svm import SVC\n",
        "svm =  SVC(C=1.0,kernel='rbf',gamma=0.01,probability=True)\n",
        "svm.fit(pca_independentVar_train, normalized_dep_train)"
      ],
      "execution_count": null,
      "outputs": [
        {
          "output_type": "execute_result",
          "data": {
            "text/plain": [
              "SVC(C=1.0, cache_size=200, class_weight=None, coef0=0.0,\n",
              "    decision_function_shape='ovr', degree=3, gamma=0.01, kernel='rbf',\n",
              "    max_iter=-1, probability=True, random_state=None, shrinking=True, tol=0.001,\n",
              "    verbose=False)"
            ]
          },
          "metadata": {
            "tags": []
          },
          "execution_count": 33
        }
      ]
    },
    {
      "cell_type": "code",
      "metadata": {
        "id": "9riaDSohqSB_",
        "outputId": "73e5a11c-b9b1-4d2e-d8f6-395d26db6ff7"
      },
      "source": [
        "#accuracy of the model on train and test set\n",
        "acc1 = svm.score(pca_independentVar_train, normalized_dep_train)\n",
        "acc2 = svm.score(pca_independentVar_test, normalized_dep_test)\n",
        "print(acc1, acc2)"
      ],
      "execution_count": null,
      "outputs": [
        {
          "output_type": "stream",
          "text": [
            "0.8567177843900206 0.8060384263494969\n"
          ],
          "name": "stdout"
        }
      ]
    },
    {
      "cell_type": "code",
      "metadata": {
        "id": "PLYliUXuqSCA"
      },
      "source": [
        "#saving the trained SVM for applying to other test images\n",
        "pickle.dump(svm,open('./model/trained_svm.pickle','wb'))"
      ],
      "execution_count": null,
      "outputs": []
    },
    {
      "cell_type": "code",
      "metadata": {
        "id": "5hJ8HjgLqSCB"
      },
      "source": [
        ""
      ],
      "execution_count": null,
      "outputs": []
    }
  ]
}